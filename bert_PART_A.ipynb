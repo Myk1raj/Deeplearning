{
 "cells": [
  {
   "cell_type": "markdown",
   "metadata": {},
   "source": [
    "# PART A\n",
    "## Mayank Raj"
   ]
  },
  {
   "cell_type": "code",
   "execution_count": 2,
   "metadata": {
    "_cell_guid": "b1076dfc-b9ad-4769-8c92-a6c4dae69d19",
    "_uuid": "8f2839f25d086af736a60e9eeb907d3b93b6e0e5",
    "execution": {
     "iopub.execute_input": "2024-11-11T14:09:22.901439Z",
     "iopub.status.busy": "2024-11-11T14:09:22.900815Z",
     "iopub.status.idle": "2024-11-11T14:09:22.933072Z",
     "shell.execute_reply": "2024-11-11T14:09:22.932159Z",
     "shell.execute_reply.started": "2024-11-11T14:09:22.901399Z"
    },
    "trusted": true
   },
   "outputs": [],
   "source": [
    "import pandas as pd\n",
    "import numpy as np\n",
    "import torch\n",
    "from torch.utils.data import DataLoader\n",
    "from transformers import BertTokenizer, BertForSequenceClassification, AdamW, get_linear_schedule_with_warmup\n",
    "from sklearn.preprocessing import LabelEncoder\n",
    "from sklearn.model_selection import train_test_split\n",
    "from sklearn.metrics import accuracy_score\n",
    "\n",
    "# Load the dataset\n",
    "df = pd.read_csv('/kaggle/input/emotion-dataset/Emotion_classify_Data.csv')  # Adjust the path as needed\n",
    "df.columns = ['comment', 'emotion']  # Ensure columns are correctly named"
   ]
  },
  {
   "cell_type": "code",
   "execution_count": 3,
   "metadata": {
    "execution": {
     "iopub.execute_input": "2024-11-11T14:09:28.820233Z",
     "iopub.status.busy": "2024-11-11T14:09:28.819825Z",
     "iopub.status.idle": "2024-11-11T14:09:28.844515Z",
     "shell.execute_reply": "2024-11-11T14:09:28.843714Z",
     "shell.execute_reply.started": "2024-11-11T14:09:28.820196Z"
    },
    "trusted": true
   },
   "outputs": [],
   "source": [
    "# Encode labels\n",
    "label_encoder = LabelEncoder()\n",
    "df['label'] = label_encoder.fit_transform(df['emotion'])\n",
    "\n",
    "# Split the data into train, validation, and test sets\n",
    "train_df, test_df = train_test_split(df, test_size=0.2, stratify=df['label'], random_state=42)\n",
    "train_df, val_df = train_test_split(train_df, test_size=0.1, stratify=train_df['label'], random_state=42)"
   ]
  },
  {
   "cell_type": "code",
   "execution_count": 5,
   "metadata": {
    "execution": {
     "iopub.execute_input": "2024-11-11T14:09:50.295940Z",
     "iopub.status.busy": "2024-11-11T14:09:50.295339Z",
     "iopub.status.idle": "2024-11-11T14:09:54.628029Z",
     "shell.execute_reply": "2024-11-11T14:09:54.627042Z",
     "shell.execute_reply.started": "2024-11-11T14:09:50.295900Z"
    },
    "trusted": true
   },
   "outputs": [],
   "source": [
    "# Tokenize and encode data\n",
    "tokenizer = BertTokenizer.from_pretrained('bert-base-uncased')\n",
    "train_encodings = tokenizer(train_df['comment'].tolist(), truncation=True, padding=\"max_length\", max_length=128)\n",
    "val_encodings = tokenizer(val_df['comment'].tolist(), truncation=True, padding=\"max_length\", max_length=128)\n",
    "test_encodings = tokenizer(test_df['comment'].tolist(), truncation=True, padding=\"max_length\", max_length=128)"
   ]
  },
  {
   "cell_type": "code",
   "execution_count": 6,
   "metadata": {
    "execution": {
     "iopub.execute_input": "2024-11-11T14:10:04.915488Z",
     "iopub.status.busy": "2024-11-11T14:10:04.915124Z",
     "iopub.status.idle": "2024-11-11T14:10:04.924861Z",
     "shell.execute_reply": "2024-11-11T14:10:04.923758Z",
     "shell.execute_reply.started": "2024-11-11T14:10:04.915454Z"
    },
    "trusted": true
   },
   "outputs": [],
   "source": [
    "# Custom dataset class\n",
    "class TextDataset(torch.utils.data.Dataset):\n",
    "    def __init__(self, encodings, labels):\n",
    "        self.encodings = encodings\n",
    "        self.labels = labels\n",
    "\n",
    "    def __getitem__(self, idx):\n",
    "        item = {key: torch.tensor(val[idx]) for key, val in self.encodings.items()}\n",
    "        item['labels'] = torch.tensor(self.labels[idx])\n",
    "        return item\n",
    "\n",
    "    def __len__(self):\n",
    "        return len(self.labels)\n",
    "\n",
    "# Create datasets and dataloaders\n",
    "train_dataset = TextDataset(train_encodings, train_df['label'].tolist())\n",
    "val_dataset = TextDataset(val_encodings, val_df['label'].tolist())\n",
    "test_dataset = TextDataset(test_encodings, test_df['label'].tolist())\n",
    "\n",
    "train_loader = DataLoader(train_dataset, batch_size=16, shuffle=True)\n",
    "val_loader = DataLoader(val_dataset, batch_size=16)\n",
    "test_loader = DataLoader(test_dataset, batch_size=16)\n"
   ]
  },
  {
   "cell_type": "code",
   "execution_count": 7,
   "metadata": {
    "execution": {
     "iopub.execute_input": "2024-11-11T14:10:14.315273Z",
     "iopub.status.busy": "2024-11-11T14:10:14.314888Z",
     "iopub.status.idle": "2024-11-11T14:10:17.133397Z",
     "shell.execute_reply": "2024-11-11T14:10:17.132274Z",
     "shell.execute_reply.started": "2024-11-11T14:10:14.315239Z"
    },
    "trusted": true
   },
   "outputs": [
    {
     "data": {
      "application/vnd.jupyter.widget-view+json": {
       "model_id": "20ea785962444d9790c646bb6215bb0b",
       "version_major": 2,
       "version_minor": 0
      },
      "text/plain": [
       "model.safetensors:   0%|          | 0.00/440M [00:00<?, ?B/s]"
      ]
     },
     "metadata": {},
     "output_type": "display_data"
    },
    {
     "name": "stderr",
     "output_type": "stream",
     "text": [
      "Some weights of BertForSequenceClassification were not initialized from the model checkpoint at bert-base-uncased and are newly initialized: ['classifier.bias', 'classifier.weight']\n",
      "You should probably TRAIN this model on a down-stream task to be able to use it for predictions and inference.\n"
     ]
    },
    {
     "data": {
      "text/plain": [
       "BertForSequenceClassification(\n",
       "  (bert): BertModel(\n",
       "    (embeddings): BertEmbeddings(\n",
       "      (word_embeddings): Embedding(30522, 768, padding_idx=0)\n",
       "      (position_embeddings): Embedding(512, 768)\n",
       "      (token_type_embeddings): Embedding(2, 768)\n",
       "      (LayerNorm): LayerNorm((768,), eps=1e-12, elementwise_affine=True)\n",
       "      (dropout): Dropout(p=0.1, inplace=False)\n",
       "    )\n",
       "    (encoder): BertEncoder(\n",
       "      (layer): ModuleList(\n",
       "        (0-11): 12 x BertLayer(\n",
       "          (attention): BertAttention(\n",
       "            (self): BertSdpaSelfAttention(\n",
       "              (query): Linear(in_features=768, out_features=768, bias=True)\n",
       "              (key): Linear(in_features=768, out_features=768, bias=True)\n",
       "              (value): Linear(in_features=768, out_features=768, bias=True)\n",
       "              (dropout): Dropout(p=0.1, inplace=False)\n",
       "            )\n",
       "            (output): BertSelfOutput(\n",
       "              (dense): Linear(in_features=768, out_features=768, bias=True)\n",
       "              (LayerNorm): LayerNorm((768,), eps=1e-12, elementwise_affine=True)\n",
       "              (dropout): Dropout(p=0.1, inplace=False)\n",
       "            )\n",
       "          )\n",
       "          (intermediate): BertIntermediate(\n",
       "            (dense): Linear(in_features=768, out_features=3072, bias=True)\n",
       "            (intermediate_act_fn): GELUActivation()\n",
       "          )\n",
       "          (output): BertOutput(\n",
       "            (dense): Linear(in_features=3072, out_features=768, bias=True)\n",
       "            (LayerNorm): LayerNorm((768,), eps=1e-12, elementwise_affine=True)\n",
       "            (dropout): Dropout(p=0.1, inplace=False)\n",
       "          )\n",
       "        )\n",
       "      )\n",
       "    )\n",
       "    (pooler): BertPooler(\n",
       "      (dense): Linear(in_features=768, out_features=768, bias=True)\n",
       "      (activation): Tanh()\n",
       "    )\n",
       "  )\n",
       "  (dropout): Dropout(p=0.1, inplace=False)\n",
       "  (classifier): Linear(in_features=768, out_features=3, bias=True)\n",
       ")"
      ]
     },
     "execution_count": 7,
     "metadata": {},
     "output_type": "execute_result"
    }
   ],
   "source": [
    "# Initialize model\n",
    "device = torch.device('cuda' if torch.cuda.is_available() else 'cpu')\n",
    "model = BertForSequenceClassification.from_pretrained('bert-base-uncased', num_labels=len(label_encoder.classes_))\n",
    "model.to(device)"
   ]
  },
  {
   "cell_type": "code",
   "execution_count": 8,
   "metadata": {
    "execution": {
     "iopub.execute_input": "2024-11-11T14:10:42.505624Z",
     "iopub.status.busy": "2024-11-11T14:10:42.505235Z",
     "iopub.status.idle": "2024-11-11T14:10:42.949850Z",
     "shell.execute_reply": "2024-11-11T14:10:42.949118Z",
     "shell.execute_reply.started": "2024-11-11T14:10:42.505582Z"
    },
    "trusted": true
   },
   "outputs": [
    {
     "name": "stderr",
     "output_type": "stream",
     "text": [
      "/opt/conda/lib/python3.10/site-packages/transformers/optimization.py:591: FutureWarning: This implementation of AdamW is deprecated and will be removed in a future version. Use the PyTorch implementation torch.optim.AdamW instead, or set `no_deprecation_warning=True` to disable this warning\n",
      "  warnings.warn(\n"
     ]
    }
   ],
   "source": [
    "# Initialize optimizer and scheduler\n",
    "optimizer = AdamW(model.parameters(), lr=2e-5)\n",
    "total_steps = len(train_loader) * 5  # 5 epochs\n",
    "scheduler = get_linear_schedule_with_warmup(optimizer, num_warmup_steps=0, num_training_steps=total_steps)\n"
   ]
  },
  {
   "cell_type": "code",
   "execution_count": 9,
   "metadata": {
    "execution": {
     "iopub.execute_input": "2024-11-11T14:10:57.471902Z",
     "iopub.status.busy": "2024-11-11T14:10:57.470952Z",
     "iopub.status.idle": "2024-11-11T14:18:39.931231Z",
     "shell.execute_reply": "2024-11-11T14:18:39.930244Z",
     "shell.execute_reply.started": "2024-11-11T14:10:57.471855Z"
    },
    "trusted": true
   },
   "outputs": [
    {
     "name": "stdout",
     "output_type": "stream",
     "text": [
      "Epoch 1/5\n",
      "Training Loss: 0.5154\n",
      "Validation Accuracy: 0.9305\n",
      "Epoch 2/5\n",
      "Training Loss: 0.1157\n",
      "Validation Accuracy: 0.9516\n",
      "Epoch 3/5\n",
      "Training Loss: 0.0479\n",
      "Validation Accuracy: 0.9684\n",
      "Epoch 4/5\n",
      "Training Loss: 0.0248\n",
      "Validation Accuracy: 0.9579\n",
      "Epoch 5/5\n",
      "Training Loss: 0.0184\n",
      "Validation Accuracy: 0.9579\n",
      "Early stopping triggered.\n",
      "Training complete.\n"
     ]
    }
   ],
   "source": [
    "# Training function with early stopping\n",
    "def train_model(model, train_loader, val_loader, optimizer, scheduler, epochs=5, patience=2):\n",
    "    best_accuracy = 0\n",
    "    patience_counter = 0\n",
    "\n",
    "    for epoch in range(epochs):\n",
    "        model.train()\n",
    "        total_loss = 0\n",
    "\n",
    "        for batch in train_loader:\n",
    "            optimizer.zero_grad()\n",
    "            inputs = {key: val.to(device) for key, val in batch.items()}\n",
    "            outputs = model(**inputs)\n",
    "            loss = outputs.loss\n",
    "            loss.backward()\n",
    "\n",
    "            # Gradient clipping\n",
    "            torch.nn.utils.clip_grad_norm_(model.parameters(), max_norm=1.0)\n",
    "\n",
    "            optimizer.step()\n",
    "            scheduler.step()\n",
    "            total_loss += loss.item()\n",
    "\n",
    "        avg_train_loss = total_loss / len(train_loader)\n",
    "        val_accuracy = evaluate_model(model, val_loader)\n",
    "\n",
    "        print(f\"Epoch {epoch + 1}/{epochs}\")\n",
    "        print(f\"Training Loss: {avg_train_loss:.4f}\")\n",
    "        print(f\"Validation Accuracy: {val_accuracy:.4f}\")\n",
    "\n",
    "        if val_accuracy > best_accuracy:\n",
    "            best_accuracy = val_accuracy\n",
    "            patience_counter = 0  # Reset patience counter\n",
    "        else:\n",
    "            patience_counter += 1\n",
    "            if patience_counter >= patience:\n",
    "                print(\"Early stopping triggered.\")\n",
    "                break\n",
    "\n",
    "    print(\"Training complete.\")\n",
    "    return model\n",
    "\n",
    "# Evaluation function\n",
    "def evaluate_model(model, data_loader):\n",
    "    model.eval()\n",
    "    predictions, true_labels = [], []\n",
    "\n",
    "    with torch.no_grad():\n",
    "        for batch in data_loader:\n",
    "            inputs = {key: val.to(device) for key, val in batch.items()}\n",
    "            outputs = model(**inputs)\n",
    "            preds = torch.argmax(outputs.logits, dim=1)\n",
    "            predictions.extend(preds.cpu().numpy())\n",
    "            true_labels.extend(batch['labels'].cpu().numpy())\n",
    "\n",
    "    accuracy = accuracy_score(true_labels, predictions)\n",
    "    return accuracy\n",
    "\n",
    "# Train and evaluate the model\n",
    "trained_model = train_model(model, train_loader, val_loader, optimizer, scheduler)\n"
   ]
  },
  {
   "cell_type": "code",
   "execution_count": 10,
   "metadata": {
    "execution": {
     "iopub.execute_input": "2024-11-11T14:18:39.933395Z",
     "iopub.status.busy": "2024-11-11T14:18:39.933095Z",
     "iopub.status.idle": "2024-11-11T14:18:48.347773Z",
     "shell.execute_reply": "2024-11-11T14:18:48.346868Z",
     "shell.execute_reply.started": "2024-11-11T14:18:39.933364Z"
    },
    "trusted": true
   },
   "outputs": [
    {
     "name": "stdout",
     "output_type": "stream",
     "text": [
      "Test Accuracy: 0.9646\n",
      "Predicted Emotion: ['joy']\n"
     ]
    }
   ],
   "source": [
    "# Evaluate on test set\n",
    "test_accuracy = evaluate_model(trained_model, test_loader)\n",
    "print(f'Test Accuracy: {test_accuracy:.4f}')\n",
    "\n",
    "# Inference function\n",
    "def infer(text):\n",
    "    trained_model.eval()\n",
    "    inputs = tokenizer(text, return_tensors='pt', truncation=True, padding=True, max_length=128).to(device)\n",
    "    with torch.no_grad():\n",
    "        outputs = trained_model(**inputs)\n",
    "        preds = torch.argmax(outputs.logits, dim=1)\n",
    "    return label_encoder.inverse_transform(preds.cpu().numpy())\n",
    "\n",
    "# Example inference\n",
    "new_text = \"I am feeling great today!\"\n",
    "prediction = infer(new_text)\n",
    "print(f'Predicted Emotion: {prediction}')"
   ]
  }
 ],
 "metadata": {
  "kaggle": {
   "accelerator": "nvidiaTeslaT4",
   "dataSources": [
    {
     "datasetId": 3851864,
     "sourceId": 6676302,
     "sourceType": "datasetVersion"
    },
    {
     "sourceId": 165488290,
     "sourceType": "kernelVersion"
    },
    {
     "sourceId": 136584929,
     "sourceType": "kernelVersion"
    }
   ],
   "dockerImageVersionId": 30787,
   "isGpuEnabled": true,
   "isInternetEnabled": true,
   "language": "python",
   "sourceType": "notebook"
  },
  "kernelspec": {
   "display_name": "Python 3",
   "language": "python",
   "name": "python3"
  },
  "language_info": {
   "codemirror_mode": {
    "name": "ipython",
    "version": 3
   },
   "file_extension": ".py",
   "mimetype": "text/x-python",
   "name": "python",
   "nbconvert_exporter": "python",
   "pygments_lexer": "ipython3",
   "version": "3.10.14"
  }
 },
 "nbformat": 4,
 "nbformat_minor": 4
}
