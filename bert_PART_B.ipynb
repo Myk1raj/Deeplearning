{
 "cells": [
  {
   "cell_type": "markdown",
   "metadata": {},
   "source": [
    "# PART B\n",
    "## Mayank Raj\n",
    "### Using German dataset and German-Bert Model"
   ]
  },
  {
   "cell_type": "code",
   "execution_count": null,
   "metadata": {},
   "outputs": [],
   "source": [
    "import pandas as pd\n",
    "import numpy as np\n",
    "import torch\n",
    "from torch.utils.data import DataLoader\n",
    "from transformers import BertTokenizer, BertForSequenceClassification, AdamW\n",
    "from sklearn.preprocessing import LabelEncoder\n",
    "from sklearn.model_selection import train_test_split\n",
    "\n",
    "# Data manipulation libraries\n",
    "import pandas as pd\n",
    "import numpy as np\n",
    "\n",
    "# PyTorch utilities\n",
    "import torch\n",
    "from torch.utils.data import DataLoader\n",
    "\n",
    "# Transformers and optimization\n",
    "from transformers import BertTokenizer, BertForSequenceClassification, AdamW\n",
    "\n",
    "# Preprocessing and model evaluation libraries\n",
    "from sklearn.preprocessing import LabelEncoder\n",
    "from sklearn.model_selection import train_test_split\n"
   ]
  },
  {
   "cell_type": "code",
   "execution_count": null,
   "metadata": {
    "execution": {
     "iopub.execute_input": "2024-11-07T20:18:05.903351Z",
     "iopub.status.busy": "2024-11-07T20:18:05.902665Z",
     "iopub.status.idle": "2024-11-07T20:18:06.058084Z",
     "shell.execute_reply": "2024-11-07T20:18:06.056623Z",
     "shell.execute_reply.started": "2024-11-07T20:18:05.903301Z"
    },
    "trusted": true
   },
   "outputs": [
    {
     "name": "stderr",
     "output_type": "stream",
     "text": [
      "/tmp/ipykernel_30/1848729433.py:5: SettingWithCopyWarning: \n",
      "A value is trying to be set on a copy of a slice from a DataFrame.\n",
      "Try using .loc[row_indexer,col_indexer] = value instead\n",
      "\n",
      "See the caveats in the documentation: https://pandas.pydata.org/pandas-docs/stable/user_guide/indexing.html#returning-a-view-versus-a-copy\n",
      "  train_df['grade'] = label_encoder.fit_transform(train_df['grade'])\n",
      "/tmp/ipykernel_30/1848729433.py:6: SettingWithCopyWarning: \n",
      "A value is trying to be set on a copy of a slice from a DataFrame.\n",
      "Try using .loc[row_indexer,col_indexer] = value instead\n",
      "\n",
      "See the caveats in the documentation: https://pandas.pydata.org/pandas-docs/stable/user_guide/indexing.html#returning-a-view-versus-a-copy\n",
      "  test_df['grade'] = label_encoder.transform(test_df['grade'])\n"
     ]
    }
   ],
   "source": [
    "# Load and split the dataset\n",
    "data = pd.read_csv('/kaggle/input/german-rap-de/final_raps_de.csv')\n",
    "\n",
    "# Define split ratio and create training/testing subsets\n",
    "train_df, test_df = np.split(data, [int(0.8 * len(data))])\n",
    "\n",
    "# Encode labels in 'grade' column\n",
    "train_df['grade'] = label_encoder.fit_transform(train_df['grade'])\n",
    "test_df['grade'] = label_encoder.transform(test_df['grade'])\n"
   ]
  },
  {
   "cell_type": "code",
   "execution_count": 5,
   "metadata": {
    "execution": {
     "iopub.execute_input": "2024-11-07T20:18:42.623456Z",
     "iopub.status.busy": "2024-11-07T20:18:42.622677Z",
     "iopub.status.idle": "2024-11-07T20:19:28.057268Z",
     "shell.execute_reply": "2024-11-07T20:19:28.056270Z",
     "shell.execute_reply.started": "2024-11-07T20:18:42.623417Z"
    },
    "trusted": true
   },
   "outputs": [],
   "source": [
    "model_name = 'bert-base-german-cased'\n",
    "tokenizer = BertTokenizer.from_pretrained(model_name)\n",
    "train_encodings = tokenizer(train_df['lyrics'].tolist(), truncation=True, padding=True, max_length=128)\n",
    "test_encodings = tokenizer(test_df['lyrics'].tolist(), truncation=True, padding=True, max_length=128)"
   ]
  },
  {
   "cell_type": "code",
   "execution_count": null,
   "metadata": {
    "execution": {
     "iopub.execute_input": "2024-11-07T20:19:41.623079Z",
     "iopub.status.busy": "2024-11-07T20:19:41.622702Z",
     "iopub.status.idle": "2024-11-07T20:19:41.630897Z",
     "shell.execute_reply": "2024-11-07T20:19:41.629797Z",
     "shell.execute_reply.started": "2024-11-07T20:19:41.623045Z"
    },
    "trusted": true
   },
   "outputs": [],
   "source": [
    "# Define a dataset class for model input\n",
    "class TextDataset(torch.utils.data.Dataset):\n",
    "    def __init__(self, encodings, labels):\n",
    "        self.encodings = encodings\n",
    "        self.labels = torch.tensor(labels)  # Convert labels to tensor directly\n",
    "\n",
    "    def __len__(self):\n",
    "        return len(self.labels)\n",
    "\n",
    "    def __getitem__(self, idx):\n",
    "        # Retrieve each item and add 'labels' key directly\n",
    "        return {key: torch.tensor(val[idx]) for key, val in self.encodings.items(), 'labels': self.labels[idx]}\n",
    "\n",
    "# Instantiate datasets for training and testing\n",
    "train_dataset = TextDataset(train_encodings, train_df['grade'].values)\n",
    "test_dataset = TextDataset(test_encodings, test_df['grade'].values)\n"
   ]
  },
  {
   "cell_type": "code",
   "execution_count": 8,
   "metadata": {
    "execution": {
     "iopub.execute_input": "2024-11-07T20:19:44.483253Z",
     "iopub.status.busy": "2024-11-07T20:19:44.482799Z",
     "iopub.status.idle": "2024-11-07T20:19:44.488976Z",
     "shell.execute_reply": "2024-11-07T20:19:44.487836Z",
     "shell.execute_reply.started": "2024-11-07T20:19:44.483211Z"
    },
    "trusted": true
   },
   "outputs": [],
   "source": [
    "train_loader = DataLoader(train_dataset, batch_size=16, shuffle=True)\n",
    "test_loader = DataLoader(test_dataset, batch_size=16)"
   ]
  },
  {
   "cell_type": "code",
   "execution_count": 9,
   "metadata": {
    "execution": {
     "iopub.execute_input": "2024-11-07T20:19:45.758202Z",
     "iopub.status.busy": "2024-11-07T20:19:45.757531Z",
     "iopub.status.idle": "2024-11-07T20:19:47.007421Z",
     "shell.execute_reply": "2024-11-07T20:19:47.006499Z",
     "shell.execute_reply.started": "2024-11-07T20:19:45.758165Z"
    },
    "scrolled": true,
    "trusted": true
   },
   "outputs": [
    {
     "name": "stderr",
     "output_type": "stream",
     "text": [
      "Some weights of BertForSequenceClassification were not initialized from the model checkpoint at bert-base-german-cased and are newly initialized: ['classifier.bias', 'classifier.weight']\n",
      "You should probably TRAIN this model on a down-stream task to be able to use it for predictions and inference.\n"
     ]
    },
    {
     "data": {
      "text/plain": [
       "BertForSequenceClassification(\n",
       "  (bert): BertModel(\n",
       "    (embeddings): BertEmbeddings(\n",
       "      (word_embeddings): Embedding(30000, 768, padding_idx=0)\n",
       "      (position_embeddings): Embedding(512, 768)\n",
       "      (token_type_embeddings): Embedding(2, 768)\n",
       "      (LayerNorm): LayerNorm((768,), eps=1e-12, elementwise_affine=True)\n",
       "      (dropout): Dropout(p=0.1, inplace=False)\n",
       "    )\n",
       "    (encoder): BertEncoder(\n",
       "      (layer): ModuleList(\n",
       "        (0-11): 12 x BertLayer(\n",
       "          (attention): BertAttention(\n",
       "            (self): BertSdpaSelfAttention(\n",
       "              (query): Linear(in_features=768, out_features=768, bias=True)\n",
       "              (key): Linear(in_features=768, out_features=768, bias=True)\n",
       "              (value): Linear(in_features=768, out_features=768, bias=True)\n",
       "              (dropout): Dropout(p=0.1, inplace=False)\n",
       "            )\n",
       "            (output): BertSelfOutput(\n",
       "              (dense): Linear(in_features=768, out_features=768, bias=True)\n",
       "              (LayerNorm): LayerNorm((768,), eps=1e-12, elementwise_affine=True)\n",
       "              (dropout): Dropout(p=0.1, inplace=False)\n",
       "            )\n",
       "          )\n",
       "          (intermediate): BertIntermediate(\n",
       "            (dense): Linear(in_features=768, out_features=3072, bias=True)\n",
       "            (intermediate_act_fn): GELUActivation()\n",
       "          )\n",
       "          (output): BertOutput(\n",
       "            (dense): Linear(in_features=3072, out_features=768, bias=True)\n",
       "            (LayerNorm): LayerNorm((768,), eps=1e-12, elementwise_affine=True)\n",
       "            (dropout): Dropout(p=0.1, inplace=False)\n",
       "          )\n",
       "        )\n",
       "      )\n",
       "    )\n",
       "    (pooler): BertPooler(\n",
       "      (dense): Linear(in_features=768, out_features=768, bias=True)\n",
       "      (activation): Tanh()\n",
       "    )\n",
       "  )\n",
       "  (dropout): Dropout(p=0.1, inplace=False)\n",
       "  (classifier): Linear(in_features=768, out_features=6, bias=True)\n",
       ")"
      ]
     },
     "execution_count": 9,
     "metadata": {},
     "output_type": "execute_result"
    }
   ],
   "source": [
    "model = BertForSequenceClassification.from_pretrained(model_name, num_labels=len(label_encoder.classes_))\n",
    "model.to('cuda' if torch.cuda.is_available() else 'cpu')"
   ]
  },
  {
   "cell_type": "code",
   "execution_count": null,
   "metadata": {
    "execution": {
     "iopub.execute_input": "2024-11-07T20:19:54.317990Z",
     "iopub.status.busy": "2024-11-07T20:19:54.317564Z",
     "iopub.status.idle": "2024-11-07T20:19:54.327145Z",
     "shell.execute_reply": "2024-11-07T20:19:54.326216Z",
     "shell.execute_reply.started": "2024-11-07T20:19:54.317950Z"
    },
    "trusted": true
   },
   "outputs": [
    {
     "name": "stderr",
     "output_type": "stream",
     "text": [
      "/opt/conda/lib/python3.10/site-packages/transformers/optimization.py:591: FutureWarning: This implementation of AdamW is deprecated and will be removed in a future version. Use the PyTorch implementation torch.optim.AdamW instead, or set `no_deprecation_warning=True` to disable this warning\n",
      "  warnings.warn(\n"
     ]
    }
   ],
   "source": [
    "# Initialize optimizer with specific learning rate\n",
    "optimizer = torch.optim.AdamW(params=model.parameters(), lr=5e-5)\n"
   ]
  },
  {
   "cell_type": "code",
   "execution_count": null,
   "metadata": {
    "execution": {
     "iopub.execute_input": "2024-11-07T20:20:01.292921Z",
     "iopub.status.busy": "2024-11-07T20:20:01.292526Z",
     "iopub.status.idle": "2024-11-07T20:23:17.801820Z",
     "shell.execute_reply": "2024-11-07T20:23:17.800803Z",
     "shell.execute_reply.started": "2024-11-07T20:20:01.292886Z"
    },
    "trusted": true
   },
   "outputs": [
    {
     "name": "stdout",
     "output_type": "stream",
     "text": [
      "Epoch 1 completed.\n",
      "Epoch 2 completed.\n",
      "Epoch 3 completed.\n"
     ]
    }
   ],
   "source": [
    "# Set device\n",
    "device = 'cuda' if torch.cuda.is_available() else 'cpu'\n",
    "\n",
    "# Train the model\n",
    "for epoch in range(3):\n",
    "    model.train()\n",
    "    for batch in train_loader:\n",
    "        optimizer.zero_grad()\n",
    "        # Move batch to device in a single line\n",
    "        inputs = {key: val.to(device) for key, val in batch.items()}\n",
    "        outputs = model(**inputs)\n",
    "        loss = outputs.loss\n",
    "        loss.backward()\n",
    "        optimizer.step()\n",
    "    print(f'Epoch {epoch + 1} completed.')\n"
   ]
  },
  {
   "cell_type": "code",
   "execution_count": null,
   "metadata": {
    "execution": {
     "iopub.execute_input": "2024-11-07T20:23:17.804432Z",
     "iopub.status.busy": "2024-11-07T20:23:17.803776Z",
     "iopub.status.idle": "2024-11-07T20:23:23.347143Z",
     "shell.execute_reply": "2024-11-07T20:23:23.346097Z",
     "shell.execute_reply.started": "2024-11-07T20:23:17.804383Z"
    },
    "trusted": true
   },
   "outputs": [
    {
     "name": "stdout",
     "output_type": "stream",
     "text": [
      "Validation Accuracy: 0.4787\n"
     ]
    }
   ],
   "source": [
    "# Set device\n",
    "device = 'cuda' if torch.cuda.is_available() else 'cpu'\n",
    "\n",
    "# Evaluate on the test set\n",
    "model.eval()\n",
    "val_preds, val_labels = [], []\n",
    "\n",
    "with torch.no_grad():\n",
    "    for batch in test_loader:\n",
    "        inputs = {key: val.to(device) for key, val in batch.items()}\n",
    "        outputs = model(**inputs)\n",
    "        preds = torch.argmax(outputs.logits, dim=1)\n",
    "        val_preds.append(preds.cpu().numpy())\n",
    "        val_labels.append(batch['labels'].cpu().numpy())\n",
    "\n",
    "val_accuracy = np.mean(np.array(val_preds) == np.array(val_labels))\n",
    "print(f'Validation Accuracy: {val_accuracy:.4f}')\n"
   ]
  }
 ],
 "metadata": {
  "kaggle": {
   "accelerator": "nvidiaTeslaT4",
   "dataSources": [
    {
     "datasetId": 1590810,
     "sourceId": 2617192,
     "sourceType": "datasetVersion"
    },
    {
     "datasetId": 6034579,
     "sourceId": 9837499,
     "sourceType": "datasetVersion"
    }
   ],
   "dockerImageVersionId": 30787,
   "isGpuEnabled": true,
   "isInternetEnabled": true,
   "language": "python",
   "sourceType": "notebook"
  },
  "kernelspec": {
   "display_name": "Python 3",
   "language": "python",
   "name": "python3"
  },
  "language_info": {
   "codemirror_mode": {
    "name": "ipython",
    "version": 3
   },
   "file_extension": ".py",
   "mimetype": "text/x-python",
   "name": "python",
   "nbconvert_exporter": "python",
   "pygments_lexer": "ipython3",
   "version": "3.10.14"
  }
 },
 "nbformat": 4,
 "nbformat_minor": 4
}
