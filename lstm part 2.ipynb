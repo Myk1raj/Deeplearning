{
 "cells": [
  {
   "cell_type": "markdown",
   "metadata": {},
   "source": [
    "## Mayank Raj\n",
    "### 22BAI1118\n",
    "#### LSMT"
   ]
  },
  {
   "cell_type": "code",
   "execution_count": 1,
   "metadata": {},
   "outputs": [
    {
     "name": "stderr",
     "output_type": "stream",
     "text": [
      "2024-10-08 10:56:55.420709: I tensorflow/core/util/port.cc:110] oneDNN custom operations are on. You may see slightly different numerical results due to floating-point round-off errors from different computation orders. To turn them off, set the environment variable `TF_ENABLE_ONEDNN_OPTS=0`.\n",
      "2024-10-08 10:56:55.421940: I tensorflow/tsl/cuda/cudart_stub.cc:28] Could not find cuda drivers on your machine, GPU will not be used.\n",
      "2024-10-08 10:56:55.446907: I tensorflow/tsl/cuda/cudart_stub.cc:28] Could not find cuda drivers on your machine, GPU will not be used.\n",
      "2024-10-08 10:56:55.447402: I tensorflow/core/platform/cpu_feature_guard.cc:182] This TensorFlow binary is optimized to use available CPU instructions in performance-critical operations.\n",
      "To enable the following instructions: AVX2 AVX512F AVX512_VNNI FMA, in other operations, rebuild TensorFlow with the appropriate compiler flags.\n",
      "2024-10-08 10:56:55.895796: W tensorflow/compiler/tf2tensorrt/utils/py_utils.cc:38] TF-TRT Warning: Could not find TensorRT\n"
     ]
    }
   ],
   "source": [
    "import pandas as pd\n",
    "import numpy as np\n",
    "from sklearn.model_selection import train_test_split\n",
    "from sklearn.preprocessing import LabelEncoder\n",
    "from tensorflow.keras.models import Sequential\n",
    "from tensorflow.keras.layers import Dense\n",
    "from tensorflow.keras.optimizers import Adam\n",
    "from sklearn.metrics import accuracy_score\n",
    "\n",
    "from tensorflow.keras.models import Model\n",
    "from tensorflow.keras.layers import Input, Dense, Dropout\n",
    "from tensorflow.keras.optimizers import Adam\n",
    "from tensorflow.keras.utils import to_categorical\n",
    "from sklearn.metrics import classification_report"
   ]
  },
  {
   "cell_type": "code",
   "execution_count": 12,
   "metadata": {},
   "outputs": [
    {
     "data": {
      "text/html": [
       "<div>\n",
       "<style scoped>\n",
       "    .dataframe tbody tr th:only-of-type {\n",
       "        vertical-align: middle;\n",
       "    }\n",
       "\n",
       "    .dataframe tbody tr th {\n",
       "        vertical-align: top;\n",
       "    }\n",
       "\n",
       "    .dataframe thead th {\n",
       "        text-align: right;\n",
       "    }\n",
       "</style>\n",
       "<table border=\"1\" class=\"dataframe\">\n",
       "  <thead>\n",
       "    <tr style=\"text-align: right;\">\n",
       "      <th></th>\n",
       "      <th>Neutral\\tநாளைக்கு அரிசிக்கு இந்த நிலமை வந்தா 🙂</th>\n",
       "    </tr>\n",
       "  </thead>\n",
       "  <tbody>\n",
       "    <tr>\n",
       "      <th>0</th>\n",
       "      <td>Anger\\tமானம் கேட்ட அன்புமணி</td>\n",
       "    </tr>\n",
       "    <tr>\n",
       "      <th>1</th>\n",
       "      <td>Neutral\\tதவறு இஸ்ரேல் இருக்காது இதை நான் கூறவி...</td>\n",
       "    </tr>\n",
       "    <tr>\n",
       "      <th>2</th>\n",
       "      <td>Joy\\tகொங்கு நாட்டு சிங்கம் உன்மையும் நேர்மையும...</td>\n",
       "    </tr>\n",
       "    <tr>\n",
       "      <th>3</th>\n",
       "      <td>Neutral\\tஇவர் யார்? ஒவ்வொரு வார்த்தையும் முன்ன...</td>\n",
       "    </tr>\n",
       "    <tr>\n",
       "      <th>4</th>\n",
       "      <td>Disguist\\tதினமும் ஸ்டாலின் செருப்ப தொடைத்து கொ...</td>\n",
       "    </tr>\n",
       "  </tbody>\n",
       "</table>\n",
       "</div>"
      ],
      "text/plain": [
       "      Neutral\\tநாளைக்கு அரிசிக்கு இந்த நிலமை வந்தா 🙂\n",
       "0                        Anger\\tமானம் கேட்ட அன்புமணி\n",
       "1  Neutral\\tதவறு இஸ்ரேல் இருக்காது இதை நான் கூறவி...\n",
       "2  Joy\\tகொங்கு நாட்டு சிங்கம் உன்மையும் நேர்மையும...\n",
       "3  Neutral\\tஇவர் யார்? ஒவ்வொரு வார்த்தையும் முன்ன...\n",
       "4  Disguist\\tதினமும் ஸ்டாலின் செருப்ப தொடைத்து கொ..."
      ]
     },
     "execution_count": 12,
     "metadata": {},
     "output_type": "execute_result"
    }
   ],
   "source": [
    "import tensorflow as tf\n",
    "import pandas as pd\n",
    "from sklearn.model_selection import train_test_split\n",
    "from tensorflow.keras.preprocessing.sequence import pad_sequences\n",
    "from tensorflow.keras.utils import to_categorical\n",
    "\n",
    "df_train = pd.read_csv('ta-emotion10-trainset.csv')\n",
    "\n",
    "df_train.head()"
   ]
  },
  {
   "cell_type": "code",
   "execution_count": 16,
   "metadata": {},
   "outputs": [],
   "source": [
    "\n",
    "df_train[['Emotion', 'Message']] = df_train['Neutral\\tநாளைக்கு அரிசிக்கு இந்த நிலமை வந்தா 🙂'].str.split('\\t', expand=True)  \n",
    "   \n",
    "df_train.drop('Neutral\\tநாளைக்கு அரிசிக்கு இந்த நிலமை வந்தா 🙂', axis=1, inplace=True)"
   ]
  },
  {
   "cell_type": "code",
   "execution_count": 17,
   "metadata": {},
   "outputs": [
    {
     "data": {
      "text/html": [
       "<div>\n",
       "<style scoped>\n",
       "    .dataframe tbody tr th:only-of-type {\n",
       "        vertical-align: middle;\n",
       "    }\n",
       "\n",
       "    .dataframe tbody tr th {\n",
       "        vertical-align: top;\n",
       "    }\n",
       "\n",
       "    .dataframe thead th {\n",
       "        text-align: right;\n",
       "    }\n",
       "</style>\n",
       "<table border=\"1\" class=\"dataframe\">\n",
       "  <thead>\n",
       "    <tr style=\"text-align: right;\">\n",
       "      <th></th>\n",
       "      <th>Emotion</th>\n",
       "      <th>Message</th>\n",
       "    </tr>\n",
       "  </thead>\n",
       "  <tbody>\n",
       "    <tr>\n",
       "      <th>0</th>\n",
       "      <td>Anger</td>\n",
       "      <td>மானம் கேட்ட அன்புமணி</td>\n",
       "    </tr>\n",
       "    <tr>\n",
       "      <th>1</th>\n",
       "      <td>Neutral</td>\n",
       "      <td>தவறு இஸ்ரேல் இருக்காது இதை நான் கூறவில்லை ஹமாஸ...</td>\n",
       "    </tr>\n",
       "    <tr>\n",
       "      <th>2</th>\n",
       "      <td>Joy</td>\n",
       "      <td>கொங்கு நாட்டு சிங்கம் உன்மையும் நேர்மையும் உலை...</td>\n",
       "    </tr>\n",
       "    <tr>\n",
       "      <th>3</th>\n",
       "      <td>Neutral</td>\n",
       "      <td>இவர் யார்? ஒவ்வொரு வார்த்தையும் முன்னுக்கு பின...</td>\n",
       "    </tr>\n",
       "    <tr>\n",
       "      <th>4</th>\n",
       "      <td>Disguist</td>\n",
       "      <td>தினமும் ஸ்டாலின் செருப்ப தொடைத்து கொடுக்குற வன...</td>\n",
       "    </tr>\n",
       "  </tbody>\n",
       "</table>\n",
       "</div>"
      ],
      "text/plain": [
       "    Emotion                                            Message\n",
       "0     Anger                               மானம் கேட்ட அன்புமணி\n",
       "1   Neutral  தவறு இஸ்ரேல் இருக்காது இதை நான் கூறவில்லை ஹமாஸ...\n",
       "2       Joy  கொங்கு நாட்டு சிங்கம் உன்மையும் நேர்மையும் உலை...\n",
       "3   Neutral  இவர் யார்? ஒவ்வொரு வார்த்தையும் முன்னுக்கு பின...\n",
       "4  Disguist  தினமும் ஸ்டாலின் செருப்ப தொடைத்து கொடுக்குற வன..."
      ]
     },
     "execution_count": 17,
     "metadata": {},
     "output_type": "execute_result"
    }
   ],
   "source": [
    "df_train.head()"
   ]
  },
  {
   "cell_type": "code",
   "execution_count": 19,
   "metadata": {},
   "outputs": [],
   "source": [
    "X_train=df_train[['Message']]\n",
    "y_train=df_train[['Emotion']]"
   ]
  },
  {
   "cell_type": "code",
   "execution_count": 20,
   "metadata": {},
   "outputs": [
    {
     "data": {
      "text/html": [
       "<div>\n",
       "<style scoped>\n",
       "    .dataframe tbody tr th:only-of-type {\n",
       "        vertical-align: middle;\n",
       "    }\n",
       "\n",
       "    .dataframe tbody tr th {\n",
       "        vertical-align: top;\n",
       "    }\n",
       "\n",
       "    .dataframe thead th {\n",
       "        text-align: right;\n",
       "    }\n",
       "</style>\n",
       "<table border=\"1\" class=\"dataframe\">\n",
       "  <thead>\n",
       "    <tr style=\"text-align: right;\">\n",
       "      <th></th>\n",
       "      <th>Joy\\tஅருமை அற்புதம் பிரமாதம் நண்பரே வாழ்த்துக்கள் நண்பரே வாழ்க வளமுடன் நலமுடன் தொடரட்டும் தங்களது பணி மதுரை சிவசங்கரன் ஆர்டிஸ்ட் திருவல்லிக்கேணி சென்னை</th>\n",
       "    </tr>\n",
       "  </thead>\n",
       "  <tbody>\n",
       "    <tr>\n",
       "      <th>0</th>\n",
       "      <td>Anticipation\\tவேல்ராஜ் வேலையா தான் இருக்கும்</td>\n",
       "    </tr>\n",
       "    <tr>\n",
       "      <th>1</th>\n",
       "      <td>Joy\\tஅண்ணன் கிட்டுக்கு வாழ்த்துக்கள் 👍👍</td>\n",
       "    </tr>\n",
       "    <tr>\n",
       "      <th>2</th>\n",
       "      <td>Trust\\tஆமா நானும் இதான் யோசித்தேன் 🤣🤣</td>\n",
       "    </tr>\n",
       "    <tr>\n",
       "      <th>3</th>\n",
       "      <td>Anticipation\\tமொத்த மக்களும் ஒன்னு சேர்ந்தாதான...</td>\n",
       "    </tr>\n",
       "    <tr>\n",
       "      <th>4</th>\n",
       "      <td>Neutral\\tஇவர் சொன்னது உன் மை</td>\n",
       "    </tr>\n",
       "  </tbody>\n",
       "</table>\n",
       "</div>"
      ],
      "text/plain": [
       "  Joy\\tஅருமை அற்புதம் பிரமாதம் நண்பரே வாழ்த்துக்கள் நண்பரே வாழ்க வளமுடன் நலமுடன் தொடரட்டும் தங்களது பணி மதுரை சிவசங்கரன் ஆர்டிஸ்ட் திருவல்லிக்கேணி சென்னை\n",
       "0       Anticipation\\tவேல்ராஜ் வேலையா தான் இருக்கும்                                                                                                     \n",
       "1            Joy\\tஅண்ணன் கிட்டுக்கு வாழ்த்துக்கள் 👍👍                                                                                                     \n",
       "2              Trust\\tஆமா நானும் இதான் யோசித்தேன் 🤣🤣                                                                                                     \n",
       "3  Anticipation\\tமொத்த மக்களும் ஒன்னு சேர்ந்தாதான...                                                                                                     \n",
       "4                       Neutral\\tஇவர் சொன்னது உன் மை                                                                                                     "
      ]
     },
     "execution_count": 20,
     "metadata": {},
     "output_type": "execute_result"
    }
   ],
   "source": [
    "\n",
    "df_test = pd.read_csv('ta-emotion10_test.csv')\n",
    "\n",
    "df_test.head()"
   ]
  },
  {
   "cell_type": "code",
   "execution_count": 21,
   "metadata": {},
   "outputs": [],
   "source": [
    "  \n",
    "df_test[['Emotion', 'Message']] = df_test['Joy\\tஅருமை அற்புதம் பிரமாதம் நண்பரே வாழ்த்துக்கள் நண்பரே வாழ்க வளமுடன் நலமுடன் தொடரட்டும் தங்களது பணி மதுரை சிவசங்கரன் ஆர்டிஸ்ட் திருவல்லிக்கேணி சென்னை'].str.split('\\t', expand=True)  \n",
    "  \n",
    "df_test.drop('Joy\\tஅருமை அற்புதம் பிரமாதம் நண்பரே வாழ்த்துக்கள் நண்பரே வாழ்க வளமுடன் நலமுடன் தொடரட்டும் தங்களது பணி மதுரை சிவசங்கரன் ஆர்டிஸ்ட் திருவல்லிக்கேணி சென்னை', axis=1, inplace=True)"
   ]
  },
  {
   "cell_type": "code",
   "execution_count": 22,
   "metadata": {},
   "outputs": [],
   "source": [
    "X_test=df_test[['Message']]\n",
    "y_test=df_test[['Emotion']]"
   ]
  },
  {
   "cell_type": "code",
   "execution_count": 43,
   "metadata": {},
   "outputs": [
    {
     "data": {
      "text/html": [
       "<div>\n",
       "<style scoped>\n",
       "    .dataframe tbody tr th:only-of-type {\n",
       "        vertical-align: middle;\n",
       "    }\n",
       "\n",
       "    .dataframe tbody tr th {\n",
       "        vertical-align: top;\n",
       "    }\n",
       "\n",
       "    .dataframe thead th {\n",
       "        text-align: right;\n",
       "    }\n",
       "</style>\n",
       "<table border=\"1\" class=\"dataframe\">\n",
       "  <thead>\n",
       "    <tr style=\"text-align: right;\">\n",
       "      <th></th>\n",
       "      <th>Emotion</th>\n",
       "      <th>Message</th>\n",
       "    </tr>\n",
       "  </thead>\n",
       "  <tbody>\n",
       "    <tr>\n",
       "      <th>0</th>\n",
       "      <td>Anticipation</td>\n",
       "      <td>வேல்ராஜ் வேலையா தான் இருக்கும்</td>\n",
       "    </tr>\n",
       "    <tr>\n",
       "      <th>1</th>\n",
       "      <td>Joy</td>\n",
       "      <td>அண்ணன் கிட்டுக்கு வாழ்த்துக்கள் 👍👍</td>\n",
       "    </tr>\n",
       "    <tr>\n",
       "      <th>2</th>\n",
       "      <td>Trust</td>\n",
       "      <td>ஆமா நானும் இதான் யோசித்தேன் 🤣🤣</td>\n",
       "    </tr>\n",
       "    <tr>\n",
       "      <th>3</th>\n",
       "      <td>Anticipation</td>\n",
       "      <td>மொத்த மக்களும் ஒன்னு சேர்ந்தாதான் இந்த அரசாங்க...</td>\n",
       "    </tr>\n",
       "    <tr>\n",
       "      <th>4</th>\n",
       "      <td>Neutral</td>\n",
       "      <td>இவர் சொன்னது உன் மை</td>\n",
       "    </tr>\n",
       "  </tbody>\n",
       "</table>\n",
       "</div>"
      ],
      "text/plain": [
       "        Emotion                                            Message\n",
       "0  Anticipation                     வேல்ராஜ் வேலையா தான் இருக்கும்\n",
       "1           Joy                 அண்ணன் கிட்டுக்கு வாழ்த்துக்கள் 👍👍\n",
       "2         Trust                     ஆமா நானும் இதான் யோசித்தேன் 🤣🤣\n",
       "3  Anticipation  மொத்த மக்களும் ஒன்னு சேர்ந்தாதான் இந்த அரசாங்க...\n",
       "4       Neutral                                இவர் சொன்னது உன் மை"
      ]
     },
     "execution_count": 43,
     "metadata": {},
     "output_type": "execute_result"
    }
   ],
   "source": [
    "df_test.head()"
   ]
  },
  {
   "cell_type": "code",
   "execution_count": 27,
   "metadata": {},
   "outputs": [
    {
     "name": "stdout",
     "output_type": "stream",
     "text": [
      "Number of unique classes in the 'Type' column: 11\n"
     ]
    }
   ],
   "source": [
    "num_classes =y_train['Emotion'].nunique()\n",
    "print(f\"Number of unique classes in the 'Type' column: {num_classes}\")"
   ]
  },
  {
   "cell_type": "code",
   "execution_count": 29,
   "metadata": {},
   "outputs": [
    {
     "name": "stdout",
     "output_type": "stream",
     "text": [
      "(14207, 1)\n",
      "(3551, 1)\n",
      "(14207, 1)\n",
      "(3551, 1)\n"
     ]
    }
   ],
   "source": [
    "print(X_train.shape)\n",
    "print(X_test.shape)\n",
    "print(y_train.shape)\n",
    "print(y_test.shape)"
   ]
  },
  {
   "cell_type": "code",
   "execution_count": 32,
   "metadata": {},
   "outputs": [],
   "source": [
    "import pandas as pd\n",
    "import numpy as np\n",
    "import tensorflow as tf\n",
    "from tensorflow.keras.preprocessing.text import Tokenizer\n",
    "from tensorflow.keras.preprocessing.sequence import pad_sequences\n",
    "from tensorflow.keras.models import Sequential\n",
    "from tensorflow.keras.layers import Embedding, LSTM, Bidirectional, Dense, Dropout\n",
    "from sklearn.preprocessing import LabelEncoder\n",
    "from sklearn.metrics import classification_report, confusion_matrix\n",
    "import matplotlib.pyplot as plt\n",
    "import seaborn as sns\n",
    "import re"
   ]
  },
  {
   "cell_type": "code",
   "execution_count": 34,
   "metadata": {},
   "outputs": [],
   "source": [
    "\n",
    "max_words = 10000\n",
    "max_len = 100\n",
    "\n",
    "tokenizer = Tokenizer(num_words=max_words, oov_token='<OOV>')\n",
    "tokenizer.fit_on_texts(X_train['Message'])\n"
   ]
  },
  {
   "cell_type": "code",
   "execution_count": 35,
   "metadata": {},
   "outputs": [],
   "source": [
    "tokenizer.fit_on_texts(X_test['Message'])"
   ]
  },
  {
   "cell_type": "code",
   "execution_count": 36,
   "metadata": {},
   "outputs": [],
   "source": [
    "tokenizer.fit_on_texts(y_train['Emotion'])\n",
    "tokenizer.fit_on_texts(y_test['Emotion'])"
   ]
  },
  {
   "cell_type": "code",
   "execution_count": 38,
   "metadata": {},
   "outputs": [],
   "source": [
    "X_train = tokenizer.texts_to_sequences(X_test['Message'])\n",
    "X_test = tokenizer.texts_to_sequences(X_test['Message'])\n",
    "\n",
    "X_train = pad_sequences(X_train, maxlen=max_len, padding='post')\n",
    "X_test = pad_sequences(X_test, maxlen=max_len, padding='post')"
   ]
  },
  {
   "cell_type": "code",
   "execution_count": 39,
   "metadata": {},
   "outputs": [],
   "source": [
    "le = LabelEncoder()\n",
    "y_train = le.fit_transform(y_test['Emotion'])\n",
    "y_test = le.transform(y_test['Emotion'])"
   ]
  },
  {
   "cell_type": "code",
   "execution_count": 40,
   "metadata": {},
   "outputs": [],
   "source": [
    "y_train = tf.keras.utils.to_categorical(y_train, num_classes=11)\n",
    "y_test = tf.keras.utils.to_categorical(y_test, num_classes=11)"
   ]
  },
  {
   "cell_type": "code",
   "execution_count": 41,
   "metadata": {},
   "outputs": [
    {
     "name": "stdout",
     "output_type": "stream",
     "text": [
      "Model: \"sequential\"\n",
      "_________________________________________________________________\n",
      " Layer (type)                Output Shape              Param #   \n",
      "=================================================================\n",
      " embedding (Embedding)       (None, 100, 128)          1280000   \n",
      "                                                                 \n",
      " lstm (LSTM)                 (None, 64)                49408     \n",
      "                                                                 \n",
      " dense (Dense)               (None, 11)                715       \n",
      "                                                                 \n",
      "=================================================================\n",
      "Total params: 1330123 (5.07 MB)\n",
      "Trainable params: 1330123 (5.07 MB)\n",
      "Non-trainable params: 0 (0.00 Byte)\n",
      "_________________________________________________________________\n"
     ]
    },
    {
     "name": "stderr",
     "output_type": "stream",
     "text": [
      "2024-10-08 11:32:24.955662: I tensorflow/compiler/xla/stream_executor/cuda/cuda_gpu_executor.cc:995] successful NUMA node read from SysFS had negative value (-1), but there must be at least one NUMA node, so returning NUMA node zero. See more at https://github.com/torvalds/linux/blob/v6.0/Documentation/ABI/testing/sysfs-bus-pci#L344-L355\n",
      "2024-10-08 11:32:24.956276: W tensorflow/core/common_runtime/gpu/gpu_device.cc:1960] Cannot dlopen some GPU libraries. Please make sure the missing libraries mentioned above are installed properly if you would like to use GPU. Follow the guide at https://www.tensorflow.org/install/gpu for how to download and setup the required libraries for your platform.\n",
      "Skipping registering GPU devices...\n"
     ]
    },
    {
     "name": "stdout",
     "output_type": "stream",
     "text": [
      "Epoch 1/8\n",
      "89/89 [==============================] - 3s 24ms/step - loss: 2.0748 - accuracy: 0.3451 - val_loss: 2.0129 - val_accuracy: 0.3404\n",
      "Epoch 2/8\n",
      "89/89 [==============================] - 2s 22ms/step - loss: 2.0204 - accuracy: 0.3451 - val_loss: 2.0107 - val_accuracy: 0.3404\n",
      "Epoch 3/8\n",
      "89/89 [==============================] - 2s 22ms/step - loss: 2.0193 - accuracy: 0.3458 - val_loss: 2.0051 - val_accuracy: 0.3404\n",
      "Epoch 4/8\n",
      "89/89 [==============================] - 2s 22ms/step - loss: 2.0165 - accuracy: 0.3454 - val_loss: 2.0116 - val_accuracy: 0.3404\n",
      "Epoch 5/8\n",
      "89/89 [==============================] - 2s 22ms/step - loss: 2.0169 - accuracy: 0.3458 - val_loss: 2.0093 - val_accuracy: 0.3404\n",
      "Epoch 6/8\n",
      "89/89 [==============================] - 2s 22ms/step - loss: 2.0190 - accuracy: 0.3461 - val_loss: 2.0067 - val_accuracy: 0.3404\n",
      "Epoch 7/8\n",
      "89/89 [==============================] - 2s 22ms/step - loss: 2.0161 - accuracy: 0.3465 - val_loss: 2.0034 - val_accuracy: 0.3404\n",
      "Epoch 8/8\n",
      "89/89 [==============================] - 2s 22ms/step - loss: 2.0152 - accuracy: 0.3472 - val_loss: 2.0051 - val_accuracy: 0.3404\n",
      "111/111 [==============================] - 1s 5ms/step - loss: 2.0112 - accuracy: 0.3453\n",
      "\n",
      "Test Accuracy: 0.3453\n"
     ]
    }
   ],
   "source": [
    "\n",
    "model_simple = tf.keras.Sequential([  \n",
    "    tf.keras.layers.Embedding(max_features, 128, input_length=max_len),\n",
    "    tf.keras.layers.LSTM(64, return_sequences=False), \n",
    "    tf.keras.layers.Dense(11, activation='softmax')  \n",
    "])  \n",
    "model_simple.summary()  \n",
    "  \n",
    "model_simple.compile(optimizer='adam',  \n",
    "            loss='categorical_crossentropy',  \n",
    "            metrics=['accuracy'])  \n",
    "  \n",
    "history = model_simple.fit(X_train, y_train,  \n",
    "                batch_size=batch_size,  \n",
    "                epochs=epochs,  \n",
    "                validation_split=0.2,  \n",
    "                verbose=1)  \n",
    "  \n",
    "test_loss, test_acc = model_simple.evaluate(X_test, y_test)  \n",
    "print(f'\\nTest Accuracy: {test_acc:.4f}')\n"
   ]
  },
  {
   "cell_type": "code",
   "execution_count": 42,
   "metadata": {},
   "outputs": [
    {
     "data": {
      "text/plain": [
       "<matplotlib.legend.Legend at 0x7f6110c0e400>"
      ]
     },
     "execution_count": 42,
     "metadata": {},
     "output_type": "execute_result"
    },
    {
     "data": {
      "image/png": "[encoded data removed]",
      "text/plain": [
       "<Figure size 1200x400 with 2 Axes>"
      ]
     },
     "metadata": {},
     "output_type": "display_data"
    }
   ],
   "source": [
    "\n",
    "plt.figure(figsize=(12, 4))\n",
    "\n",
    "plt.subplot(1, 2, 1)\n",
    "plt.plot(history.history['accuracy'], label='Training Accuracy')\n",
    "plt.plot(history.history['val_accuracy'], label='Validation Accuracy')\n",
    "plt.title('Model Accuracy')\n",
    "plt.xlabel('Epoch')\n",
    "plt.ylabel('Accuracy')\n",
    "plt.legend()\n",
    "\n",
    "plt.subplot(1, 2, 2)\n",
    "plt.plot(history.history['loss'], label='Training Loss')\n",
    "plt.plot(history.history['val_loss'], label='Validation Loss')\n",
    "plt.title('Model Loss')\n",
    "plt.xlabel('Epoch')\n",
    "plt.ylabel('Loss')\n",
    "plt.legend()"
   ]
  }
 ],
 "metadata": {
  "kernelspec": {
   "display_name": "Python 3",
   "language": "python",
   "name": "python3"
  },
  "language_info": {
   "codemirror_mode": {
    "name": "ipython",
    "version": 3
   },
   "file_extension": ".py",
   "mimetype": "text/x-python",
   "name": "python",
   "nbconvert_exporter": "python",
   "pygments_lexer": "ipython3",
   "version": "3.8.10"
  }
 },
 "nbformat": 4,
 "nbformat_minor": 2
}
